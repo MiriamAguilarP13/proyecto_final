{
 "cells": [
  {
   "cell_type": "markdown",
   "metadata": {},
   "source": [
    "# Introducción\n",
    "\n",
    "El servicio de telefonía virtual CallMeMaybe, es una empresa externa que ofrece el servicio de centro de llamadas para otras organizaciones que lo requieren. Y ofrece el servicio de recepción y emisión de llamadas. La eficacia de los operadores es importante, ya que está relacionado con la satisfacción del cliente, por lo tanto la eficacia de los operadores conlleva a una mayor retención y adquisición de clientes. \n",
    "\n",
    "El servicioCallMeMaybe está desarrollando una nueva función que brindará a los supervisores y las supervisores información sobre los operadores menos eficaces. Se considera que un operador es ineficaz si tiene una gran cantidad de llamadas entrantes perdidas (internas y externas) y un tiempo de espera prolongado para las llamadas entrantes. Además, si se supone que un operador debe realizar llamadas salientes, un número reducido de ellas también será un signo de ineficacia.\n",
    "\n"
   ]
  },
  {
   "cell_type": "markdown",
   "metadata": {},
   "source": [
    "# Objetivo\n",
    "\n",
    "1. Identificar a los operadores ineficaces y proporcionar un reporte a las organizaciones para que tomen acciones correctivas e identifiquen áreas de oportunidad a mejorar."
   ]
  },
  {
   "cell_type": "markdown",
   "metadata": {},
   "source": [
    "# Inicio \n",
    "\n",
    "Importar las librerías necesarias y guardar los datasets que tienen la información de interés. "
   ]
  },
  {
   "cell_type": "markdown",
   "metadata": {},
   "source": [
    "# Procesamiento de Datos"
   ]
  },
  {
   "cell_type": "markdown",
   "metadata": {},
   "source": [
    "# Análisis descriptivo de los datos y gráficos de distribución"
   ]
  },
  {
   "cell_type": "markdown",
   "metadata": {},
   "source": [
    "# Análisis de datos:\n",
    "a. Observar/graficar cuántas llamadas entrantes y salientes se hicieron en total y a lo largo del tiempo.  \n",
    "b. Tasa de llamadas perdidas por operador.  \n",
    "c. Calcular las llamadas entrantes y salientes por operador.  \n",
    "d. Calcular el tiempo de espera y las llamadas perdidas por operador/a.  \n",
    "e. Calcular la tasa de llamadas perdidas para los operadores.  \n",
    "f. Calcular el tiempo de espera por operador.  \n",
    "g. Relación entre la tasa de llamadas internas y la eficacia general: examinar si hay una relación entre la participación en llamadas internas y la eficacia general del operador. Un alto número de llamadas internas podría indicar falta de disponibilidad para llamadas externas.  "
   ]
  },
  {
   "cell_type": "markdown",
   "metadata": {},
   "source": [
    "# Estudio de la relación entre la duración de las llamadas y el plan tarifario\n",
    "\n",
    "Analizar si la eficacia del operador varía según el plan tarifario del cliente."
   ]
  },
  {
   "cell_type": "markdown",
   "metadata": {},
   "source": [
    "# Análisis temporal de la actividad del cliente \n",
    "Hacer una análisis de cómo la actividad de llamadas cambia con el tiempo desde la fecha de registro del cliente"
   ]
  },
  {
   "cell_type": "markdown",
   "metadata": {},
   "source": [
    "# Hipótesis\n",
    "\n",
    "**Impacto de llamadas internas en la eficacia del operador:**  \n",
    "\n",
    "- Hipótesis: Los operadores que tienen  un mayor número de llamadas internas podrían ser menos eficaces en comparación con aquellos que tienen más en llamadas externas.  \n",
    "\n",
    "**Eeficacia del operador y la duración promedio de espera:**  \n",
    "\n",
    "- Hipótesis: Operadores que tienen duraciones promedio de espera más largas pueden ser menos eficaces respecto a aquellos que minimizan el tiempo de espera para los clientes.  \n",
    "\n",
    "**Influencia de la duración promedio de la llamada en la eficiencia de los operadores:** \n",
    "\n",
    "- Hipótesis: Los operadores que tienen duraciones de llamadas promedio más largas pueden ser menos eficaces en comparación con aquellos con llamadas más cortas."
   ]
  },
  {
   "cell_type": "markdown",
   "metadata": {},
   "source": []
  }
 ],
 "metadata": {
  "language_info": {
   "name": "python"
  }
 },
 "nbformat": 4,
 "nbformat_minor": 2
}
